{
 "cells": [
  {
   "cell_type": "markdown",
   "metadata": {},
   "source": [
    "## TMDB API PROJECT"
   ]
  },
  {
   "cell_type": "markdown",
   "metadata": {},
   "source": [
    "For this project, we are using the TMDb (The Movie Database) API.\n",
    "\n",
    "TMDb API enables you to find out the latest information about TV Shows, Movies and the biggest names in entertainment sector for a marvelous and fun TV/Movie watching experience.\n",
    "\n",
    "TMDb documentation link(https://developers.themoviedb.org/3)\n",
    "\n",
    "After joining TMDb, you can easily generate a new developer API key using this link(https://www.themoviedb.org/settings/api/request)\n",
    "\n",
    "Our Motivation for using TMDb API\n",
    "By collecting the data using TMDb API one can recommend TV Shows, Movies and all sorts of entertainment on the basis of user’s affinity to specific genres, actors, likes and dislikes.\n",
    "\n",
    "We can find details about upcoming TV Shows and Movies.\n",
    "\n",
    "We can find what is the most popular and/ or exclusive/new content at a given time."
   ]
  },
  {
   "cell_type": "markdown",
   "metadata": {},
   "source": [
    "## 1.1\n",
    "Find the 'id' of the movie \"Andhadhun\" using TMDb API."
   ]
  },
  {
   "cell_type": "code",
   "execution_count": 2,
   "metadata": {},
   "outputs": [],
   "source": [
    "import requests\n",
    "import json"
   ]
  },
  {
   "cell_type": "code",
   "execution_count": 3,
   "metadata": {},
   "outputs": [],
   "source": [
    "#clientid = 1abf670cad5ed2b49c754a5f24b9a135\n"
   ]
  },
  {
   "cell_type": "code",
   "execution_count": null,
   "metadata": {},
   "outputs": [],
   "source": []
  },
  {
   "cell_type": "code",
   "execution_count": 4,
   "metadata": {},
   "outputs": [],
   "source": [
    "import requests\n",
    "api_key = \"1abf670cad5ed2b49c754a5f24b9a135\"\n",
    "api_link = \"https://api.themoviedb.org/3\""
   ]
  },
  {
   "cell_type": "code",
   "execution_count": 14,
   "metadata": {},
   "outputs": [
    {
     "data": {
      "text/plain": [
       "{'page': 1,\n",
       " 'results': [{'adult': False,\n",
       "   'backdrop_path': '/73aKTjdQ46jpv3InqNVnV76Nl0K.jpg',\n",
       "   'genre_ids': [80, 53, 35],\n",
       "   'id': 534780,\n",
       "   'original_language': 'hi',\n",
       "   'original_title': 'अंधाधुन',\n",
       "   'overview': 'A series of mysterious events changes the life of a blind pianist who now must report a crime that was actually never witnessed by him.',\n",
       "   'popularity': 13.912,\n",
       "   'poster_path': '/kbqTKqz3amub4GUE5qLEQFFR8Ro.jpg',\n",
       "   'release_date': '2018-10-05',\n",
       "   'title': 'Andhadhun',\n",
       "   'video': False,\n",
       "   'vote_average': 7.7,\n",
       "   'vote_count': 317}],\n",
       " 'total_pages': 1,\n",
       " 'total_results': 1}"
      ]
     },
     "execution_count": 14,
     "metadata": {},
     "output_type": "execute_result"
    }
   ],
   "source": [
    "import requests\n",
    "api_key = \"e226f4a5f5bace766952aa0d17182959\"\n",
    "api_link = \"https://api.themoviedb.org/3\"\n",
    "params = {'query':\"Andhadhun\", 'api_key':api_key}\n",
    "header = {'Accept': 'application/json'}\n",
    "response = requests.get(api_link + \"/search/movie\", headers = header, params=params)\n",
    "data = response.json()\n",
    "data\n",
    "#results = data.get('results')\n",
    "#for result in results:\n",
    "    #if result.get('title') == 'Andhadhun':\n",
    "        #print(result.get('id'))"
   ]
  },
  {
   "cell_type": "code",
   "execution_count": 22,
   "metadata": {},
   "outputs": [
    {
     "data": {
      "text/plain": [
       "{'page': 1,\n",
       " 'results': [{'adult': False,\n",
       "   'backdrop_path': '/6x00zPSgxcndnNvaFHdMtMT5Ytg.jpg',\n",
       "   'genre_ids': [18, 35],\n",
       "   'id': 20453,\n",
       "   'original_language': 'hi',\n",
       "   'original_title': '3 Idiots',\n",
       "   'overview': 'In the tradition of “Ferris Bueller’s Day Off” comes this refreshing comedy about a rebellious prankster with a crafty mind and a heart of gold. Rascal. Joker. Dreamer. Genius... You\\'ve never met a college student quite like \"Rancho.\" From the moment he arrives at India\\'s most prestigious university, Rancho\\'s outlandish schemes turn the campus upside down—along with the lives of his two newfound best friends. Together, they make life miserable for \"Virus,\" the school’s uptight and heartless dean. But when Rancho catches the eye of the dean\\'s sexy daughter, Virus sets his sights on flunking out the \"3 idiots\" once and for all.',\n",
       "   'popularity': 50.758,\n",
       "   'poster_path': '/66A9MqXOyVFCssoloscw79z8Tew.jpg',\n",
       "   'release_date': '2009-12-23',\n",
       "   'title': '3 Idiots',\n",
       "   'video': False,\n",
       "   'vote_average': 8,\n",
       "   'vote_count': 1797},\n",
       "  {'adult': False,\n",
       "   'backdrop_path': '/16UEQo8TSAJoAMNdoEJm7lJIABf.jpg',\n",
       "   'genre_ids': [35, 18],\n",
       "   'id': 452,\n",
       "   'original_language': 'da',\n",
       "   'original_title': 'Idioterne',\n",
       "   'overview': 'With his first Dogma-95 film director Lars von Trier opens up a completely new film platform. With a mix of home-video and documentary styles the film tells the story of a group of young people who have decided to get to know their “inner-idiots” and thus not only facing and breaking their outer appearance but also their inner.',\n",
       "   'popularity': 14.672,\n",
       "   'poster_path': '/zICUj2GCVubqp6p9BgpmudNVfvR.jpg',\n",
       "   'release_date': '1998-04-28',\n",
       "   'title': 'The Idiots',\n",
       "   'video': False,\n",
       "   'vote_average': 6.5,\n",
       "   'vote_count': 390},\n",
       "  {'adult': False,\n",
       "   'backdrop_path': '/ocRku7QqOa6qUrbrkbfqWYSGRjl.jpg',\n",
       "   'genre_ids': [16, 35, 14, 18],\n",
       "   'id': 42521,\n",
       "   'original_language': 'en',\n",
       "   'original_title': 'Idiots and Angels',\n",
       "   'overview': 'Angel, a selfish rotter is hanging around in a local bar, groping the wife of the barman and dealing with weapons. One morning he wakes up finding a pair of wings growing at his back. These wings do good deeds against his nature. But suddenly he finds himself fighting those who want these wings for their own dark plans.',\n",
       "   'popularity': 5.491,\n",
       "   'poster_path': '/z1cKsKMfjl5n1TNcfnk2rQ20wM0.jpg',\n",
       "   'release_date': '2008-04-26',\n",
       "   'title': 'Idiots and Angels',\n",
       "   'video': False,\n",
       "   'vote_average': 6.7,\n",
       "   'vote_count': 51},\n",
       "  {'adult': False,\n",
       "   'backdrop_path': '/f6xYGn12Tr6UnDgJ6APb0wVEgPF.jpg',\n",
       "   'genre_ids': [14, 18],\n",
       "   'id': 5728,\n",
       "   'original_language': 'de',\n",
       "   'original_title': 'Tag der Idioten',\n",
       "   'overview': 'A woman experiences psychic disintegration and ends up in a psychiatric hospital.',\n",
       "   'popularity': 2.611,\n",
       "   'poster_path': '/m1SEZgFZQckhYHbxqLGpUN1WJra.jpg',\n",
       "   'release_date': '1981-10-31',\n",
       "   'title': 'Day of the Idiots',\n",
       "   'video': False,\n",
       "   'vote_average': 5.9,\n",
       "   'vote_count': 9},\n",
       "  {'adult': False,\n",
       "   'backdrop_path': None,\n",
       "   'genre_ids': [35, 27],\n",
       "   'id': 312793,\n",
       "   'original_language': 'en',\n",
       "   'original_title': 'The Walking Deceased',\n",
       "   'overview': 'A group of survivors from all walks of the apocalypse – an idiotic Sheriff with definite coma-induced brain damage, his hardass son and a hobo with only a crossbow to stave off the walking dead, four squabbling friends forced to survive this zombieland together, and a lonely zombie who just needs love to fully regain his warm body – leave their once-safe mall hideout in search of the rumored Safe Haven Ranch, a refuge untouched by the zombie virus that has ravaged humanity.',\n",
       "   'popularity': 19.099,\n",
       "   'poster_path': '/i7X1Z7Oo4pJghgDmDoL1rIhyGJd.jpg',\n",
       "   'release_date': '2015-03-20',\n",
       "   'title': 'The Walking Deceased',\n",
       "   'video': False,\n",
       "   'vote_average': 5.4,\n",
       "   'vote_count': 148},\n",
       "  {'adult': False,\n",
       "   'backdrop_path': '/pBSA5vMQEXCwkNfOYBcMVfDbCkR.jpg',\n",
       "   'genre_ids': [18],\n",
       "   'id': 530047,\n",
       "   'original_language': 'de',\n",
       "   'original_title': 'Idioten der Familie',\n",
       "   'overview': 'Wanting to start a new life, 40-year-old Heli has found an institution in which she can put her younger, mentally disabled sister. Her three egocentric brothers have agreed to the plan and come to share their sister\\'s final weekend at the house where they all grew up on the outskirts of Berlin. They find that the \"baby of the litter\" has turned into an unpredictable \"monster\". The fallout brings them closer together than they\\'d expected.',\n",
       "   'popularity': 1.36,\n",
       "   'poster_path': '/aw2VsBD89F8n379RzhpD2rJUdUY.jpg',\n",
       "   'release_date': '2018-07-01',\n",
       "   'title': 'Family Idiots',\n",
       "   'video': False,\n",
       "   'vote_average': 5.8,\n",
       "   'vote_count': 5},\n",
       "  {'adult': False,\n",
       "   'backdrop_path': '/8qwHzo2CgQHFmrOBW1FnUEXX4Eb.jpg',\n",
       "   'genre_ids': [35],\n",
       "   'id': 203534,\n",
       "   'original_language': 'en',\n",
       "   'original_title': \"Dealin' with Idiots\",\n",
       "   'overview': \"Faced with the absurd competitiveness surrounding his son's youth league baseball team, Max Morris, a famous comedian, decides to get to know the colorful parents and coaches of the team better in an attempt to find the inspiration for his next movie.\",\n",
       "   'popularity': 5.817,\n",
       "   'poster_path': '/c52xgJjiebRyGRFoH0Tybgvh8qg.jpg',\n",
       "   'release_date': '2013-07-12',\n",
       "   'title': \"Dealin' with Idiots\",\n",
       "   'video': False,\n",
       "   'vote_average': 5.4,\n",
       "   'vote_count': 26},\n",
       "  {'adult': False,\n",
       "   'backdrop_path': '/x1fnM1anR3zUsTc0bjGgeHoyqXY.jpg',\n",
       "   'genre_ids': [18, 14, 10752],\n",
       "   'id': 145766,\n",
       "   'original_language': 'ja',\n",
       "   'original_title': '白痴',\n",
       "   'overview': \"In a future where World War II never ended, Japan is decimated by nightly bombings. The only building left standing is known as the Media Station, a broadcasting center responsible for all of Japan's entertainment.\",\n",
       "   'popularity': 1.965,\n",
       "   'poster_path': '/wt4SPOmNp3gbTjCBx31hxYtxOVY.jpg',\n",
       "   'release_date': '1999-11-13',\n",
       "   'title': 'Idiots',\n",
       "   'video': False,\n",
       "   'vote_average': 5.3,\n",
       "   'vote_count': 4},\n",
       "  {'adult': False,\n",
       "   'backdrop_path': None,\n",
       "   'genre_ids': [],\n",
       "   'id': 186371,\n",
       "   'original_language': 'de',\n",
       "   'original_title': 'Die Schlacht der Idioten',\n",
       "   'overview': 'This black and white silent film with music by Helge Schneider, starring Udo Kier as a vampire and Alfred Edel as an Indian chief was commissioned by the Filmmuseum Düsseldorf to inaugurate their cinema organ. The look and feel of the film stems from the silent film era, but the camp style and over use of clichéd characters bears the trade mark of Schlingensief all over. “I love all things kitsch, like opera, and I feel inspired by music. I was interested in silent film but not a great deal”, said the director.',\n",
       "   'popularity': 0.6,\n",
       "   'poster_path': None,\n",
       "   'release_date': '1986-01-01',\n",
       "   'title': \"Idiots' Battle\",\n",
       "   'video': False,\n",
       "   'vote_average': 0,\n",
       "   'vote_count': 0},\n",
       "  {'adult': False,\n",
       "   'backdrop_path': None,\n",
       "   'genre_ids': [35],\n",
       "   'id': 395198,\n",
       "   'original_language': 'ml',\n",
       "   'original_title': 'ഇഡിയറ്റ്സ്',\n",
       "   'overview': 'Sanusha plays a rich heiress who hires a killer called Beeran (Vijayaraghavan) to murder her and implicate her two-timing boyfriend for it. Beeran is a novice, he gives the contract to Freddy (Baburaj), a juice stall owner, who owes Beeran money. As the girl waits for the killer to come, a thief (Asif Ali) breaks into her apartment. Now starts a series of funny incidents that go on till the next morning and the film centres around that.',\n",
       "   'popularity': 1.184,\n",
       "   'poster_path': '/lAkPcpX1rEQdcJY7xPvXAkddPbZ.jpg',\n",
       "   'release_date': '2012-11-23',\n",
       "   'title': 'Idiots',\n",
       "   'video': False,\n",
       "   'vote_average': 3.3,\n",
       "   'vote_count': 3},\n",
       "  {'adult': False,\n",
       "   'backdrop_path': '/h8J7HMaYf0hyyoMaxSzM3cPJCWT.jpg',\n",
       "   'genre_ids': [35, 10749],\n",
       "   'id': 201485,\n",
       "   'original_language': 'en',\n",
       "   'original_title': 'American Idiots',\n",
       "   'overview': 'Four friends embark on a cross-country journey to Las Vegas in an old RV to stop a wedding and save a friend from losing the love of his life.',\n",
       "   'popularity': 4.001,\n",
       "   'poster_path': '/298oUKrVs26hrGbt2QJUohPSixz.jpg',\n",
       "   'release_date': '2013-06-18',\n",
       "   'title': 'American Idiots',\n",
       "   'video': False,\n",
       "   'vote_average': 5.6,\n",
       "   'vote_count': 16},\n",
       "  {'adult': False,\n",
       "   'backdrop_path': '/r55WG16pI5DD6OKwoEpD1rP3Da5.jpg',\n",
       "   'genre_ids': [99],\n",
       "   'id': 752908,\n",
       "   'original_language': 'da',\n",
       "   'original_title': 'Idioterne der startede Festen',\n",
       "   'overview': \"Danish film has never felt stronger on the international stage than it did with the Dogme films, which at the world premiere of 'The Party' and 'The Idiots' during the Cannes Film Festival in 1998 put Denmark on the film world map. Another eight films under the strict Dogme rules followed and created great international careers for several of the talents in front of and behind the handheld camera. Thomas Vinterberg, Søren Kragh-Jacobsen, Paprika Steen, Ulrich Thomsen, Trine Dyrholm, Iben Hjejle, Anders W. Berthelsen, Lone Scherfig, Sonja Richter and many more of the country's greatest filmmakers look back on when Denmark became Dogme.\",\n",
       "   'popularity': 1.065,\n",
       "   'poster_path': '/gtocPktreUjKgLDBiPRjTgLRSfD.jpg',\n",
       "   'release_date': '2020-10-13',\n",
       "   'title': 'The Idiots Who Started The Party',\n",
       "   'video': False,\n",
       "   'vote_average': 6,\n",
       "   'vote_count': 1},\n",
       "  {'adult': False,\n",
       "   'backdrop_path': None,\n",
       "   'genre_ids': [35],\n",
       "   'id': 26490,\n",
       "   'original_language': 'en',\n",
       "   'original_title': \"Andy Parsons: Britain's Got Idiots\",\n",
       "   'overview': \"Britain's Got Idiots is the stunning debut DVD of Andy Parsons, the star of Mock The Week and Live at the Apollo. Recorded at the Lyric Theatre, Shaftesbury Avenue at the zenith of his sell-out UK tour. Britain's Got Idiots proves once and for all that Andy Parsons is not only the topical comedian of his generation but a damn fine dancer.\",\n",
       "   'popularity': 1.209,\n",
       "   'poster_path': '/hCtIJNwecC9RBgLsj7lUj7XJYx1.jpg',\n",
       "   'release_date': '2009-11-23',\n",
       "   'title': \"Andy Parsons: Britain's Got Idiots\",\n",
       "   'video': False,\n",
       "   'vote_average': 6,\n",
       "   'vote_count': 1},\n",
       "  {'adult': False,\n",
       "   'backdrop_path': None,\n",
       "   'genre_ids': [10749, 18],\n",
       "   'id': 437988,\n",
       "   'original_language': 'ja',\n",
       "   'original_title': 'ばかもの',\n",
       "   'overview': '10 years ago Hide, a college student, meets Yuki Gakuko, an older woman, through work. They become lovers with Hide falling hard for Yuki Gakuko. The following year, Yuki abruptly announces one day that she is going to marry another man. This devastates Hide. Hide eventually finishes college and finds a job, but his yearning for Yuki leads him into depression and alcoholism.  Meanwhile, Yuki is involved in a car accident and suffers a life altering injury. Now, 10 years later the two former lovers come across each other once again. They are both shells of their former selves ...',\n",
       "   'popularity': 1.221,\n",
       "   'poster_path': '/6j6pFHnHLT47yslELmAEYkrH2mA.jpg',\n",
       "   'release_date': '2010-12-18',\n",
       "   'title': 'The Idiots',\n",
       "   'video': False,\n",
       "   'vote_average': 10,\n",
       "   'vote_count': 1},\n",
       "  {'adult': False,\n",
       "   'backdrop_path': '/h5oFNRkkLAsBcSGHThR1pHld1CF.jpg',\n",
       "   'genre_ids': [35],\n",
       "   'id': 763571,\n",
       "   'original_language': 'zh',\n",
       "   'original_title': '山炮进城2',\n",
       "   'overview': '',\n",
       "   'popularity': 0.84,\n",
       "   'poster_path': '/ceIKOWx3nKI14yytH5lmi8JdHls.jpg',\n",
       "   'release_date': '2016-03-02',\n",
       "   'title': '4 Idiots 2',\n",
       "   'video': False,\n",
       "   'vote_average': 3,\n",
       "   'vote_count': 1},\n",
       "  {'adult': False,\n",
       "   'backdrop_path': '/x78cvxbmpBNcHON7x3Iv8vih5Sj.jpg',\n",
       "   'genre_ids': [16, 35, 10751],\n",
       "   'id': 774741,\n",
       "   'original_language': 'en',\n",
       "   'original_title': 'Diary of a Wimpy Kid',\n",
       "   'overview': 'Greg Heffley is a scrawny but ambitious kid with an active imagination and big plans to be rich and famous – he just has to survive middle school first.',\n",
       "   'popularity': 329.303,\n",
       "   'poster_path': '/obg6lWuNaZkoSlwrVG4VVk4SmT.jpg',\n",
       "   'release_date': '2021-12-03',\n",
       "   'title': 'Diary of a Wimpy Kid',\n",
       "   'video': False,\n",
       "   'vote_average': 6.5,\n",
       "   'vote_count': 191},\n",
       "  {'adult': False,\n",
       "   'backdrop_path': None,\n",
       "   'genre_ids': [16],\n",
       "   'id': 288676,\n",
       "   'original_language': 'en',\n",
       "   'original_title': 'iDiots',\n",
       "   'overview': 'It’s not a secret we love robots here at BLR, so we wanted them to be the heroes in our latest promo clip. Luxury cars with powerful engines to drive through roads under severe speed restrictions, cable TV that allows us to pay to watch all kind of sports, all from our comfortable sofa, and of course, hyper expensive cell phones that do almost everything but making a decent phone call.  Yes, our happiness is based on things we don’t need and governed by entities we don’t control, so what? Sit down and turn on the tv!',\n",
       "   'popularity': 0.6,\n",
       "   'poster_path': None,\n",
       "   'release_date': '2013-01-01',\n",
       "   'title': 'iDiots',\n",
       "   'video': False,\n",
       "   'vote_average': 6,\n",
       "   'vote_count': 4},\n",
       "  {'adult': False,\n",
       "   'backdrop_path': None,\n",
       "   'genre_ids': [],\n",
       "   'id': 330485,\n",
       "   'original_language': 'te',\n",
       "   'original_title': 'ఇంటిలిజెంట్ ఇడియట్స్',\n",
       "   'overview': \"'Intelligent Idiots' directed by Balaji stars Vikram Sekhar, Prabhajeet Kaur, Sapthagiri, Durgesh, Benarjee. Shweta Basu will be performing a song\",\n",
       "   'popularity': 0.846,\n",
       "   'poster_path': None,\n",
       "   'release_date': '2015-01-23',\n",
       "   'title': 'Intelligent Idiots',\n",
       "   'video': False,\n",
       "   'vote_average': 0,\n",
       "   'vote_count': 0},\n",
       "  {'adult': False,\n",
       "   'backdrop_path': None,\n",
       "   'genre_ids': [35],\n",
       "   'id': 484599,\n",
       "   'original_language': 'zh',\n",
       "   'original_title': '傻瓜向錢衝',\n",
       "   'overview': '',\n",
       "   'popularity': 0.6,\n",
       "   'poster_path': '/jsfgo0aZTthVnCiiVQNksy1iS75.jpg',\n",
       "   'release_date': '2016-05-06',\n",
       "   'title': 'Two Idiots',\n",
       "   'video': False,\n",
       "   'vote_average': 2,\n",
       "   'vote_count': 1},\n",
       "  {'adult': False,\n",
       "   'backdrop_path': '/5hmTzU0jT9w3J9BAaHUlqpKpKHU.jpg',\n",
       "   'genre_ids': [18],\n",
       "   'id': 747988,\n",
       "   'original_language': 'ja',\n",
       "   'original_title': '君は永遠にそいつらより若い',\n",
       "   'overview': 'Horigai spends her boring days waiting to graduate from college. As she hangs out with friends, she begins to realize the violence and sorrow behind their ordinary lives.',\n",
       "   'popularity': 2.451,\n",
       "   'poster_path': '/fjCH5bWetpEkLJPTtc8Tbo2wAzY.jpg',\n",
       "   'release_date': '2021-09-17',\n",
       "   'title': 'Eternally Younger Than Those Idiots',\n",
       "   'video': False,\n",
       "   'vote_average': 7,\n",
       "   'vote_count': 1}],\n",
       " 'total_pages': 3,\n",
       " 'total_results': 58}"
      ]
     },
     "execution_count": 22,
     "metadata": {},
     "output_type": "execute_result"
    }
   ],
   "source": [
    "import requests\n",
    "api_key = \"e226f4a5f5bace766952aa0d17182959\"\n",
    "api_link = \"https://api.themoviedb.org/3\"\n",
    "params = {'query':\"3 Idiots\", 'api_key':api_key}\n",
    "header = {'Accept': 'application/json'}\n",
    "response = requests.get(api_link + \"/search/movie\", headers = header, params=params)\n",
    "data = response.json()\n",
    "data"
   ]
  },
  {
   "cell_type": "code",
   "execution_count": 6,
   "metadata": {},
   "outputs": [
    {
     "name": "stdout",
     "output_type": "stream",
     "text": [
      "{\"page\":1,\"results\":[{\"id\":420,\"logo_path\":\"/hUzeosd33nzE5MCNsZxCGEKTXaQ.png\",\"name\":\"Marvel Studios\",\"origin_country\":\"US\"}],\"total_pages\":1,\"total_results\":1}\n"
     ]
    },
    {
     "data": {
      "text/plain": [
       "<Response [200]>"
      ]
     },
     "execution_count": 6,
     "metadata": {},
     "output_type": "execute_result"
    }
   ],
   "source": [
    "import requests\n",
    "api_key = \"e226f4a5f5bace766952aa0d17182959\"\n",
    "api_link = \"https://api.themoviedb.org/3/search/company\"\n",
    "param ={'api_key':'e226f4a5f5bace766952aa0d17182959','query':'Marvel Studios'}\n",
    "r = requests.get('https://api.themoviedb.org/3/search/company',params=param)\n",
    "print(r.text)\n"
   ]
  },
  {
   "cell_type": "code",
   "execution_count": 15,
   "metadata": {},
   "outputs": [
    {
     "name": "stdout",
     "output_type": "stream",
     "text": [
      "{\"page\":1,\"results\":[{\"id\":420,\"logo_path\":\"/hUzeosd33nzE5MCNsZxCGEKTXaQ.png\",\"name\":\"Marvel Studios\",\"origin_country\":\"US\"}],\"total_pages\":1,\"total_results\":1}\n"
     ]
    },
    {
     "name": "stderr",
     "output_type": "stream",
     "text": [
      "C:\\Users\\roktim\\anaconda3\\lib\\site-packages\\urllib3\\connectionpool.py:981: InsecureRequestWarning: Unverified HTTPS request is being made to host 'api.themoviedb.org'. Adding certificate verification is strongly advised. See: https://urllib3.readthedocs.io/en/latest/advanced-usage.html#ssl-warnings\n",
      "  warnings.warn(\n"
     ]
    },
    {
     "data": {
      "text/plain": [
       "{'page': 1,\n",
       " 'results': [{'id': 420,\n",
       "   'logo_path': '/hUzeosd33nzE5MCNsZxCGEKTXaQ.png',\n",
       "   'name': 'Marvel Studios',\n",
       "   'origin_country': 'US'}],\n",
       " 'total_pages': 1,\n",
       " 'total_results': 1}"
      ]
     },
     "execution_count": 15,
     "metadata": {},
     "output_type": "execute_result"
    }
   ],
   "source": [
    "\n",
    "import requests\n",
    "api_key = \"e226f4a5f5bace766952aa0d17182959\"\n",
    "api_link = \"https://api.themoviedb.org/3/search/company\"\n",
    "param ={'api_key':'e226f4a5f5bace766952aa0d17182959','query':'Marvel Studios'}\n",
    "r = requests.get('https://api.themoviedb.org/3/search/company',verify=False,params=param)\n",
    "print(r.text)\n",
    "data = r.json()\n",
    "data\n",
    "#results = data.get('results')\n",
    "#for result in results:\n",
    "    #if result.get('name') == 'Marvel Studios':\n",
    "        #print(result.get('id'))"
   ]
  },
  {
   "cell_type": "code",
   "execution_count": 16,
   "metadata": {},
   "outputs": [
    {
     "name": "stdout",
     "output_type": "stream",
     "text": [
      "{\"page\":1,\"results\":[{\"id\":420,\"logo_path\":\"/hUzeosd33nzE5MCNsZxCGEKTXaQ.png\",\"name\":\"Marvel Studios\",\"origin_country\":\"US\"}],\"total_pages\":1,\"total_results\":1}\n",
      "420\n"
     ]
    },
    {
     "name": "stderr",
     "output_type": "stream",
     "text": [
      "C:\\Users\\roktim\\anaconda3\\lib\\site-packages\\urllib3\\connectionpool.py:981: InsecureRequestWarning: Unverified HTTPS request is being made to host 'api.themoviedb.org'. Adding certificate verification is strongly advised. See: https://urllib3.readthedocs.io/en/latest/advanced-usage.html#ssl-warnings\n",
      "  warnings.warn(\n"
     ]
    }
   ],
   "source": [
    "import requests\n",
    "api_key = \"e226f4a5f5bace766952aa0d17182959\"\n",
    "api_link = \"https://api.themoviedb.org/3/search/company\"\n",
    "param ={'api_key':'e226f4a5f5bace766952aa0d17182959','query':'Marvel Studios'}\n",
    "r = requests.get('https://api.themoviedb.org/3/search/company',verify=False,params=param)\n",
    "print(r.text)\n",
    "data = r.json()\n",
    "data\n",
    "results = data.get('results')\n",
    "for result in results:\n",
    "    if result.get('name') == 'Marvel Studios':\n",
    "        print(result.get('id'))"
   ]
  },
  {
   "cell_type": "code",
   "execution_count": 5,
   "metadata": {},
   "outputs": [
    {
     "name": "stderr",
     "output_type": "stream",
     "text": [
      "C:\\Users\\roktim\\anaconda3\\lib\\site-packages\\urllib3\\connectionpool.py:981: InsecureRequestWarning: Unverified HTTPS request is being made to host 'api.themoviedb.org'. Adding certificate verification is strongly advised. See: https://urllib3.readthedocs.io/en/latest/advanced-usage.html#ssl-warnings\n",
      "  warnings.warn(\n",
      "C:\\Users\\roktim\\anaconda3\\lib\\site-packages\\urllib3\\connectionpool.py:981: InsecureRequestWarning: Unverified HTTPS request is being made to host 'api.themoviedb.org'. Adding certificate verification is strongly advised. See: https://urllib3.readthedocs.io/en/latest/advanced-usage.html#ssl-warnings\n",
      "  warnings.warn(\n"
     ]
    },
    {
     "name": "stdout",
     "output_type": "stream",
     "text": [
      "1800 8\n"
     ]
    }
   ],
   "source": [
    "\n",
    "import requests\n",
    "api_key = \"e226f4a5f5bace766952aa0d17182959\"\n",
    "api_link = \"https://api.themoviedb.org/3/search/company\"\n",
    "\n",
    "param ={'api_key':'e226f4a5f5bace766952aa0d17182959','query':'3 idiots'}\n",
    "r = requests.get('https://api.themoviedb.org/3/search/movie',verify=False,params=param)\n",
    "id = r.json()['results'][0]['id']\n",
    "\n",
    "param ={'api_key':'e226f4a5f5bace766952aa0d17182959'}\n",
    "r = requests.get('https://api.themoviedb.org/3/movie/'+str(id),verify=False,params=param)\n",
    "data = r.json()\n",
    "print(data['vote_count'],end=' ')\n",
    "\n",
    "print(int(data['vote_average']))\n"
   ]
  },
  {
   "cell_type": "code",
   "execution_count": 10,
   "metadata": {},
   "outputs": [
    {
     "name": "stderr",
     "output_type": "stream",
     "text": [
      "C:\\Users\\roktim\\anaconda3\\lib\\site-packages\\urllib3\\connectionpool.py:981: InsecureRequestWarning: Unverified HTTPS request is being made to host 'api.themoviedb.org'. Adding certificate verification is strongly advised. See: https://urllib3.readthedocs.io/en/latest/advanced-usage.html#ssl-warnings\n",
      "  warnings.warn(\n",
      "C:\\Users\\roktim\\anaconda3\\lib\\site-packages\\urllib3\\connectionpool.py:981: InsecureRequestWarning: Unverified HTTPS request is being made to host 'api.themoviedb.org'. Adding certificate verification is strongly advised. See: https://urllib3.readthedocs.io/en/latest/advanced-usage.html#ssl-warnings\n",
      "  warnings.warn(\n"
     ]
    },
    {
     "data": {
      "text/plain": [
       "{'success': False,\n",
       " 'status_code': 34,\n",
       " 'status_message': 'The resource you requested could not be found.'}"
      ]
     },
     "execution_count": 10,
     "metadata": {},
     "output_type": "execute_result"
    }
   ],
   "source": [
    "api_key = \"e226f4a5f5bace766952aa0d17182959\"\n",
    "api_link = \"https://api.themoviedb.org/3/search/company\"\n",
    "\n",
    "param ={'api_key':'e226f4a5f5bace766952aa0d17182959','query':'Inception'}\n",
    "r = requests.get('https://api.themoviedb.org/3/search/movie',verify=False,params=param)\n",
    "id = r.json()['results'][0]['id']\n",
    "id\n",
    "param ={'api_key':'e226f4a5f5bace766952aa0d17182959'}\n",
    "r = requests.get('https://api.themoviedb.org/3/movie/similar'+str(id),verify=False,params=param)\n",
    "data = r.json()\n",
    "data"
   ]
  },
  {
   "cell_type": "code",
   "execution_count": null,
   "metadata": {},
   "outputs": [],
   "source": [
    "import requests\n",
    "api_key = \"e226f4a5f5bace766952aa0d17182959\"\n",
    "api_link = \"https://api.themoviedb.org/3/search/company\"\n",
    "\n",
    "param ={'api_key':'e226f4a5f5bace766952aa0d17182959','query':'Inception'}\n",
    "r = requests.get('https://api.themoviedb.org/3/search/movie',verify=False,params=param)\n",
    "id = r.json()['results'][0]['id']\n",
    "id\n",
    "param ={'api_key':'e226f4a5f5bace766952aa0d17182959'}\n",
    "r = requests.get('https://api.themoviedb.org/3/movie'+str(id)+'/similar'+str(id),verify=False,params=param)\n",
    "data = r.json()\n",
    "data\n",
    "\n",
    "results = data.get('results')\n",
    "for result in results[:5]:\n",
    "    print(result.get(\"title\"))"
   ]
  },
  {
   "cell_type": "code",
   "execution_count": null,
   "metadata": {},
   "outputs": [],
   "source": []
  }
 ],
 "metadata": {
  "kernelspec": {
   "display_name": "Python 3",
   "language": "python",
   "name": "python3"
  },
  "language_info": {
   "codemirror_mode": {
    "name": "ipython",
    "version": 3
   },
   "file_extension": ".py",
   "mimetype": "text/x-python",
   "name": "python",
   "nbconvert_exporter": "python",
   "pygments_lexer": "ipython3",
   "version": "3.8.5"
  }
 },
 "nbformat": 4,
 "nbformat_minor": 4
}
